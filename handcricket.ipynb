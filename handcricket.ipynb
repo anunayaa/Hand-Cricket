{
 "cells": [
  {
   "cell_type": "code",
   "execution_count": 28,
   "id": "7816ab27-625f-41fd-850c-3530212a6b16",
   "metadata": {},
   "outputs": [
    {
     "name": "stdin",
     "output_type": "stream",
     "text": [
      "odd or even: odd\n",
      "toss 4\n"
     ]
    },
    {
     "name": "stdout",
     "output_type": "stream",
     "text": [
      "toss: you: 4\n",
      "toss: computer: 3\n",
      "you won the toss\n"
     ]
    },
    {
     "name": "stdin",
     "output_type": "stream",
     "text": [
      "choose batting or bowling:  batting\n",
      "play:  4\n"
     ]
    },
    {
     "name": "stdout",
     "output_type": "stream",
     "text": [
      "YOU:  4\n",
      "CPU:  5\n",
      "SCORE:  4\n"
     ]
    },
    {
     "name": "stdin",
     "output_type": "stream",
     "text": [
      "play:  6\n"
     ]
    },
    {
     "name": "stdout",
     "output_type": "stream",
     "text": [
      "YOU:  6\n",
      "CPU:  2\n",
      "SCORE:  10\n"
     ]
    },
    {
     "name": "stdin",
     "output_type": "stream",
     "text": [
      "play:  7\n"
     ]
    },
    {
     "name": "stdout",
     "output_type": "stream",
     "text": [
      "YOU:  7\n",
      "CPU:  4\n",
      "SCORE:  17\n"
     ]
    },
    {
     "name": "stdin",
     "output_type": "stream",
     "text": [
      "play:  4\n"
     ]
    },
    {
     "name": "stdout",
     "output_type": "stream",
     "text": [
      "YOU:  4\n",
      "CPU:  1\n",
      "SCORE:  21\n"
     ]
    },
    {
     "name": "stdin",
     "output_type": "stream",
     "text": [
      "play:  2\n"
     ]
    },
    {
     "name": "stdout",
     "output_type": "stream",
     "text": [
      "YOU:  2\n",
      "CPU:  6\n",
      "SCORE:  23\n"
     ]
    },
    {
     "name": "stdin",
     "output_type": "stream",
     "text": [
      "play:  3\n"
     ]
    },
    {
     "name": "stdout",
     "output_type": "stream",
     "text": [
      "YOU:  3\n",
      "CPU:  6\n",
      "SCORE:  26\n"
     ]
    },
    {
     "name": "stdin",
     "output_type": "stream",
     "text": [
      "play:  5\n"
     ]
    },
    {
     "name": "stdout",
     "output_type": "stream",
     "text": [
      "YOU:  5\n",
      "CPU:  1\n",
      "SCORE:  31\n"
     ]
    },
    {
     "name": "stdin",
     "output_type": "stream",
     "text": [
      "play:  1\n"
     ]
    },
    {
     "name": "stdout",
     "output_type": "stream",
     "text": [
      "YOU:  1\n",
      "CPU:  4\n",
      "SCORE:  32\n"
     ]
    },
    {
     "name": "stdin",
     "output_type": "stream",
     "text": [
      "play:  2\n"
     ]
    },
    {
     "name": "stdout",
     "output_type": "stream",
     "text": [
      "YOU:  2\n",
      "CPU:  4\n",
      "SCORE:  34\n"
     ]
    },
    {
     "name": "stdin",
     "output_type": "stream",
     "text": [
      "play:  3\n"
     ]
    },
    {
     "name": "stdout",
     "output_type": "stream",
     "text": [
      "YOU:  3\n",
      "CPU:  3\n",
      "out...\n",
      "to defend:  34\n"
     ]
    },
    {
     "name": "stdin",
     "output_type": "stream",
     "text": [
      "play:  6\n"
     ]
    },
    {
     "name": "stdout",
     "output_type": "stream",
     "text": [
      "YOU:  6\n",
      "CPU:  6\n",
      "congrats.. you won the game\n"
     ]
    }
   ],
   "source": [
    "import random\n",
    "import math\n",
    "\n",
    "selected=input(\"odd or even:\")\n",
    "\n",
    "player_input=int(input(\"toss\"))\n",
    "cpu_input=random.randint(1,6)\n",
    "print(\"toss: you:\", player_input)\n",
    "print(\"toss: computer:\" ,cpu_input)\n",
    "status=None\n",
    "if selected ==\"even\":\n",
    "    if (player_input+cpu_input)%2==0:\n",
    "        print(\"you won the toss \")\n",
    "        status=input(\"choose batting or bowling: \")\n",
    "    else:\n",
    "        choice=random.choice([\"batting\", \"bowling\"])\n",
    "        if choice==\"batting\":\n",
    "            print(\"computer won the toss and chose to bat\")\n",
    "            status=\"bowling\"\n",
    "        elif choice==\"bowling\":\n",
    "            print(\"computer won the toss and chose to bowl\")\n",
    "            status =\"batting\"\n",
    "        \n",
    "        \n",
    "elif selected ==\"odd\":\n",
    "    if (player_input+cpu_input)%2!=0:\n",
    "         print(\"you won the toss\")\n",
    "         status=input(\"choose batting or bowling: \")\n",
    "    else:\n",
    "        choice=random.choice([\"batting\", \"bowling\"])\n",
    "        if choice==\"batting\":\n",
    "            print(\"computer won the toss and chose to bat\")\n",
    "            status=\"bowling\"\n",
    "        elif choice==\"bowling\":\n",
    "            print(\"computer won the toss and chose to bowl\")\n",
    "            status =\"batting\"\n",
    "score=0\n",
    "target=1\n",
    "innings=1\n",
    "\n",
    "while True:\n",
    "    player_input= int(input(\"you: \"+status+ \" \"))\n",
    "    if player_input<1 or player_input>6:print(\"invalid choice\")\n",
    "    cpu_input=random.randint(1,6)\n",
    "\n",
    "    print(\"YOU: \", player_input)\n",
    "    print(\"CPU: \", cpu_input)\n",
    "    \n",
    "    if player_input==cpu_input:\n",
    "        if status==\"batting\" and innings==1:\n",
    "            print(\"out...\")\n",
    "            print(\"to defend: \", score)\n",
    "            status=\"bowling\"\n",
    "            innings=2\n",
    "        elif status==\"bowling\" and  innings==1:\n",
    "            print(\"out...\")\n",
    "            print('to get: ',target)\n",
    "            status=\"batting\"\n",
    "            innings=2\n",
    "        elif status==\"batting\" and innings==2:\n",
    "            print(\"you lost...computer won the game\")\n",
    "            break\n",
    "        elif status==\"bowling\"  and innings==2:\n",
    "            print(\"congrats.. you won the game\")\n",
    "            break\n",
    "    else:\n",
    "        if status==\"batting\" and innings==1:\n",
    "            score+=player_input\n",
    "            print(\"SCORE: \", score)\n",
    "        elif status== \"batting\" and innings==2:\n",
    "            if target-player_input>0:\n",
    "                target-=player_input\n",
    "                print(\"Score\", target)\n",
    "            else:\n",
    "                print(\"you lost\") \n",
    "                break\n",
    "        elif status==\"bowling\" and innings==1:\n",
    "            target+=cpu_input\n",
    "            print(\"TARGET\", target)\n",
    "        elif status==\"bowling\" and innings==2:\n",
    "            if score-cpu_input>0:\n",
    "                score-=cpu_input\n",
    "                print(\"to defend:\" , score)\n",
    "            else:\n",
    "                print(\"you won\")\n",
    "                break\n",
    "                \n",
    "            \n",
    "\n",
    "\n",
    "                  \n",
    "                  \n",
    "        \n",
    "\n",
    "                \n",
    "\n",
    "\n",
    "\n",
    "\n"
   ]
  },
  {
   "cell_type": "code",
   "execution_count": null,
   "id": "b06c6381-364b-46c9-9912-8f3f0d834233",
   "metadata": {},
   "outputs": [],
   "source": []
  }
 ],
 "metadata": {
  "kernelspec": {
   "display_name": "Python [conda env:base] *",
   "language": "python",
   "name": "conda-base-py"
  },
  "language_info": {
   "codemirror_mode": {
    "name": "ipython",
    "version": 3
   },
   "file_extension": ".py",
   "mimetype": "text/x-python",
   "name": "python",
   "nbconvert_exporter": "python",
   "pygments_lexer": "ipython3",
   "version": "3.12.7"
  }
 },
 "nbformat": 4,
 "nbformat_minor": 5
}
