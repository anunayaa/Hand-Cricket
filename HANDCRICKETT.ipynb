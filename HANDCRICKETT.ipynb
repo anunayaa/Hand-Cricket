{
 "cells": [
  {
   "cell_type": "code",
   "execution_count": null,
   "id": "b017208e-1b76-4ac3-86a9-2c54d497c3c4",
   "metadata": {},
   "outputs": [
    {
     "name": "stdin",
     "output_type": "stream",
     "text": [
      "odd or even: odd\n",
      "toss 4\n"
     ]
    },
    {
     "name": "stdout",
     "output_type": "stream",
     "text": [
      "toss: you: 4\n",
      "toss: computer: 4\n",
      "computer won the toss and chose to bat\n"
     ]
    },
    {
     "name": "stdin",
     "output_type": "stream",
     "text": [
      "you: bowling  7\n"
     ]
    },
    {
     "name": "stdout",
     "output_type": "stream",
     "text": [
      "invalid choice\n"
     ]
    },
    {
     "name": "stdin",
     "output_type": "stream",
     "text": [
      "you: bowling  8\n"
     ]
    },
    {
     "name": "stdout",
     "output_type": "stream",
     "text": [
      "YOU:  8\n",
      "CPU:  6\n",
      "TARGET 7\n"
     ]
    }
   ],
   "source": [
    "import random # importing random module to automate player 2\n",
    "\n",
    "selected=input(\"odd or even:\") # asking player 1 select their choice\n",
    "\n",
    "player_input=int(input(\"toss\")) # making player 1 to toss\n",
    "cpu_input=random.randint(1,6) # generating tossing play for the computer\n",
    "\n",
    "# printing the toss inputs\n",
    "print(\"toss: you:\", player_input)\n",
    "print(\"toss: computer:\" ,cpu_input)\n",
    "\n",
    "status=None # setting status variable to get current status of the player(batting or bowling)\n",
    "\n",
    "# getting the choice of batting or bowling from the winner of the toss (player or computer)\n",
    "if selected ==\"even\":\n",
    "    if (player_input+cpu_input)%2==0:\n",
    "        print(\"you won the toss \")\n",
    "        status=input(\"choose batting or bowling: \")\n",
    "    else:\n",
    "        choice=random.choice([\"batting\", \"bowling\"])\n",
    "        if choice==\"batting\":\n",
    "            print(\"computer won the toss and chose to bat\")\n",
    "            status=\"bowling\"\n",
    "        elif choice==\"bowling\":\n",
    "            print(\"computer won the toss and chose to bowl\")\n",
    "            status =\"batting\"\n",
    "        \n",
    "        \n",
    "elif selected ==\"odd\":\n",
    "    if (player_input+cpu_input)%2!=0:\n",
    "         print(\"you won the toss\")\n",
    "         status=input(\"choose batting or bowling: \")\n",
    "    else:\n",
    "        choice=random.choice([\"batting\", \"bowling\"])\n",
    "        if choice==\"batting\":\n",
    "            print(\"computer won the toss and chose to bat\")\n",
    "            status=\"bowling\"\n",
    "        elif choice==\"bowling\":\n",
    "            print(\"computer won the toss and chose to bowl\")\n",
    "            status =\"batting\"\n",
    "            \n",
    "# setting values to necessary variables for the game settings\n",
    "score=0\n",
    "target=1\n",
    "innings=1\n",
    "\n",
    "# while the game is running, gets the inputs of both player and the compu\n",
    "while True:\n",
    "    player_input= int(input(\"you: \"+status+ \" \"))\n",
    "    if player_input<1 or player_input>6:\n",
    "        print(\"invalid choice\")\n",
    "        player_input= int(input(\"you: \"+status+ \" \"))\n",
    "    cpu_input=random.randint(1,6)\n",
    "\n",
    "    print(\"YOU: \", player_input)\n",
    "    print(\"CPU: \", cpu_input)\n",
    "# setting conditions of failure \n",
    "    if player_input==cpu_input:\n",
    "        if status==\"batting\" and innings==1:\n",
    "            print(\"out...\")\n",
    "            print(\"to defend: \", score)\n",
    "            status=\"bowling\"\n",
    "            innings=2\n",
    "        elif status==\"bowling\" and  innings==1:\n",
    "            print(\"out...\")\n",
    "            print('to get: ',target)\n",
    "            status=\"batting\"\n",
    "            innings=2\n",
    "        elif status==\"batting\" and innings==2:\n",
    "            print(\"you lost...computer won the game\")\n",
    "            break\n",
    "        elif status==\"bowling\"  and innings==2:\n",
    "            print(\"congrats.. you won the game\")\n",
    "            break\n",
    "# setting conditions for continuing the game until one of the players win           \n",
    "    else:\n",
    "        if status==\"batting\" and innings==1:\n",
    "            score+=player_input\n",
    "            print(\"SCORE: \", score)\n",
    "        elif status== \"batting\" and innings==2:\n",
    "            if target-player_input>0:\n",
    "                target-=player_input\n",
    "                print(\"To get\", target)\n",
    "            else:\n",
    "                print(\"you won\") \n",
    "                break\n",
    "        elif status==\"bowling\" and innings==1:\n",
    "            target+=cpu_input\n",
    "            print(\"TARGET\", target)\n",
    "        elif status==\"bowling\" and innings==2:\n",
    "            if score-cpu_input>0:\n",
    "                score-=cpu_input\n",
    "                print(\"to defend:\" , score)\n",
    "            else:\n",
    "                print(\"you lost\")\n",
    "                break"
   ]
  },
  {
   "cell_type": "code",
   "execution_count": null,
   "id": "7484cce3-fa5e-459a-8673-e6540f802db9",
   "metadata": {},
   "outputs": [],
   "source": []
  }
 ],
 "metadata": {
  "kernelspec": {
   "display_name": "Python [conda env:base] *",
   "language": "python",
   "name": "conda-base-py"
  },
  "language_info": {
   "codemirror_mode": {
    "name": "ipython",
    "version": 3
   },
   "file_extension": ".py",
   "mimetype": "text/x-python",
   "name": "python",
   "nbconvert_exporter": "python",
   "pygments_lexer": "ipython3",
   "version": "3.12.7"
  }
 },
 "nbformat": 4,
 "nbformat_minor": 5
}
